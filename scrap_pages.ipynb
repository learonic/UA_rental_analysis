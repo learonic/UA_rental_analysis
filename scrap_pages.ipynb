{
 "cells": [
  {
   "cell_type": "code",
   "execution_count": 1,
   "metadata": {},
   "outputs": [],
   "source": [
    "import pandas as pd\n",
    "import requests\n",
    "from bs4 import BeautifulSoup\n",
    "from tqdm.notebook import tqdm"
   ]
  },
  {
   "cell_type": "code",
   "execution_count": 2,
   "metadata": {},
   "outputs": [],
   "source": [
    "def get_details(link):\n",
    "    soup = BeautifulSoup(requests.get(link).text, 'lxml')\n",
    "    try:\n",
    "        details = soup.find('div', 'css-g5mtbi-Text').text.strip('\\\\n').strip('\\\\r')\n",
    "        district = soup.find_all('a', class_ = 'css-tyi2d1')[-1].text.split()[-1]\n",
    "        tags = [x.text for x in soup.find_all('p', class_='eu5v0x0')]\n",
    "    except AttributeError:\n",
    "        return ('delete',  '', '')\n",
    "    return (process_post(details), district, tags)\n",
    "\n",
    "def process_post(post):\n",
    "    #Cleans post text. Joins into single string, removes /n\n",
    "    post_str = \"\".join(post)\n",
    "    return post_str.replace('\\n', ' ').replace('\\r', ' ')"
   ]
  },
  {
   "cell_type": "code",
   "execution_count": 3,
   "metadata": {},
   "outputs": [],
   "source": [
    "links = pd.read_csv('Data/rent_links.csv')\n",
    "links_filled=pd.read_parquet('Data/rent_details.parquet')"
   ]
  },
  {
   "cell_type": "code",
   "execution_count": 4,
   "metadata": {},
   "outputs": [
    {
     "name": "stderr",
     "output_type": "stream",
     "text": [
      "C:\\ProgramData\\Miniconda3\\envs\\bs\\lib\\site-packages\\pandas\\core\\indexing.py:1797: SettingWithCopyWarning: \n",
      "A value is trying to be set on a copy of a slice from a DataFrame.\n",
      "Try using .loc[row_indexer,col_indexer] = value instead\n",
      "\n",
      "See the caveats in the documentation: https://pandas.pydata.org/pandas-docs/stable/user_guide/indexing.html#returning-a-view-versus-a-copy\n",
      "  self._setitem_single_column(loc, v, pi)\n"
     ]
    }
   ],
   "source": [
    "links_new=links[~links.id.isin(links_filled.id.values)]\n",
    "links_new.loc[:, ['details','district', 'tags']]='', '', ''"
   ]
  },
  {
   "cell_type": "code",
   "execution_count": 5,
   "metadata": {},
   "outputs": [
    {
     "data": {
      "application/vnd.jupyter.widget-view+json": {
       "model_id": "a29e919fab1b4f9c943e5c129b3cd11c",
       "version_major": 2,
       "version_minor": 0
      },
      "text/plain": [
       "  0%|          | 0/2215 [00:00<?, ?it/s]"
      ]
     },
     "metadata": {},
     "output_type": "display_data"
    },
    {
     "name": "stderr",
     "output_type": "stream",
     "text": [
      "C:\\ProgramData\\Miniconda3\\envs\\bs\\lib\\site-packages\\numpy\\core\\fromnumeric.py:3162: VisibleDeprecationWarning: Creating an ndarray from ragged nested sequences (which is a list-or-tuple of lists-or-tuples-or ndarrays with different lengths or shapes) is deprecated. If you meant to do this, you must specify 'dtype=object' when creating the ndarray.\n",
      "  return asarray(a).ndim\n"
     ]
    }
   ],
   "source": [
    "for index, row in tqdm(links_new.iterrows(), total=links_new.shape[0]):\n",
    "    links_new.loc[index,['details', 'district', 'tags']] = get_details(row.url)"
   ]
  },
  {
   "cell_type": "code",
   "execution_count": 6,
   "metadata": {},
   "outputs": [
    {
     "name": "stderr",
     "output_type": "stream",
     "text": [
      "C:\\ProgramData\\Miniconda3\\envs\\bs\\lib\\site-packages\\pandas\\core\\frame.py:4906: SettingWithCopyWarning: \n",
      "A value is trying to be set on a copy of a slice from a DataFrame\n",
      "\n",
      "See the caveats in the documentation: https://pandas.pydata.org/pandas-docs/stable/user_guide/indexing.html#returning-a-view-versus-a-copy\n",
      "  return super().drop(\n"
     ]
    }
   ],
   "source": [
    "# update links on 'delete' id's\n",
    "to_del=links_new[links_new.details == 'delete']\n",
    "links[~links.id.isin(to_del.id.values)].to_csv('Data/rent_links.csv', index=False)\n",
    "# remove delete from links_new. only then concat\n",
    "links_new.drop(to_del.index, inplace=True)"
   ]
  },
  {
   "cell_type": "code",
   "execution_count": 7,
   "metadata": {},
   "outputs": [],
   "source": [
    "links_upd = pd.concat([links_filled, links_new])\n",
    "links_upd.to_parquet('Data/rent_details.parquet', index=False)"
   ]
  }
 ],
 "metadata": {
  "interpreter": {
   "hash": "e81d5d59a768e955a90331044a9087e067aef923f7dd911126353dcac223be92"
  },
  "kernelspec": {
   "display_name": "Python 3.10.1 64-bit ('bs': conda)",
   "language": "python",
   "name": "python3"
  },
  "language_info": {
   "codemirror_mode": {
    "name": "ipython",
    "version": 3
   },
   "file_extension": ".py",
   "mimetype": "text/x-python",
   "name": "python",
   "nbconvert_exporter": "python",
   "pygments_lexer": "ipython3",
   "version": "3.10.1"
  },
  "orig_nbformat": 4
 },
 "nbformat": 4,
 "nbformat_minor": 2
}
