{
 "cells": [
  {
   "cell_type": "code",
   "execution_count": 1,
   "metadata": {},
   "outputs": [],
   "source": [
    "import pandas as pd\n",
    "import requests\n",
    "from bs4 import BeautifulSoup\n",
    "from tqdm.notebook import tqdm"
   ]
  },
  {
   "cell_type": "code",
   "execution_count": 2,
   "metadata": {},
   "outputs": [],
   "source": [
    "def get_details(link):\n",
    "    soup = BeautifulSoup(requests.get(link).text, 'lxml')\n",
    "    try:\n",
    "        details = soup.find('div', 'css-bgzo2k').text\n",
    "        district = soup.find_all('a', class_ = 'css-tyi2d1')[-1].text.split()[-1]\n",
    "        tags = [x.text for x in soup.select('li.css-1r0si1e')]\n",
    "    except AttributeError:\n",
    "        return ('delete',  '', '')\n",
    "    return (process_post(details), district, tags)\n",
    "\n",
    "def process_post(post):\n",
    "    #Cleans post text. Joins into single string, removes /n\n",
    "    post_str = \"\".join(post)\n",
    "    return post_str.replace('\\n', ' ').replace('\\r', ' ')"
   ]
  },
  {
   "cell_type": "code",
   "execution_count": 3,
   "metadata": {},
   "outputs": [],
   "source": [
    "links = pd.read_csv('Data/rent_links.csv')\n",
    "links_filled=pd.read_parquet('Data/rent_details.parquet')\n",
    "links_new=links[~links.id.isin(links_filled.id.values)]\n",
    "properties_details=[]"
   ]
  },
  {
   "cell_type": "code",
   "execution_count": 4,
   "metadata": {},
   "outputs": [
    {
     "data": {
      "application/vnd.jupyter.widget-view+json": {
       "model_id": "49b6914a8a3749eb8310b5280ebfaca6",
       "version_major": 2,
       "version_minor": 0
      },
      "text/plain": [
       "  0%|          | 0/2864 [00:00<?, ?it/s]"
      ]
     },
     "metadata": {},
     "output_type": "display_data"
    }
   ],
   "source": [
    "properties_details=[]\n",
    "for index, row in tqdm(links_new.iterrows(), total=links_new.shape[0]):\n",
    "    property = [row.id]\n",
    "    property.extend(get_details(row.url))\n",
    "    properties_details.append(property)"
   ]
  },
  {
   "cell_type": "code",
   "execution_count": 5,
   "metadata": {},
   "outputs": [],
   "source": [
    "properties_data = pd.DataFrame(properties_details, columns=['id', 'details','district', 'tags'])"
   ]
  },
  {
   "cell_type": "code",
   "execution_count": 6,
   "metadata": {},
   "outputs": [],
   "source": [
    "# update links on 'delete' id's\n",
    "to_del=properties_data[properties_data.details == 'delete']\n",
    "links[~links.id.isin(to_del.id.values)].to_csv('Data/rent_links.csv', index=False)\n",
    "# remove delete from links_new. only then concat\n",
    "properties_data.drop(to_del.index, inplace=True)"
   ]
  },
  {
   "cell_type": "code",
   "execution_count": 7,
   "metadata": {},
   "outputs": [],
   "source": [
    "new_data=links_new.merge(properties_data, on='id')"
   ]
  },
  {
   "cell_type": "code",
   "execution_count": 8,
   "metadata": {},
   "outputs": [],
   "source": [
    "links_upd = pd.concat([links_filled, new_data])\n",
    "links_upd.to_parquet('Data/rent_details.parquet', index=False)"
   ]
  }
 ],
 "metadata": {
  "interpreter": {
   "hash": "e81d5d59a768e955a90331044a9087e067aef923f7dd911126353dcac223be92"
  },
  "kernelspec": {
   "display_name": "Python 3.10.1 64-bit ('bs': conda)",
   "language": "python",
   "name": "python3"
  },
  "language_info": {
   "codemirror_mode": {
    "name": "ipython",
    "version": 3
   },
   "file_extension": ".py",
   "mimetype": "text/x-python",
   "name": "python",
   "nbconvert_exporter": "python",
   "pygments_lexer": "ipython3",
   "version": "3.11.4"
  },
  "orig_nbformat": 4
 },
 "nbformat": 4,
 "nbformat_minor": 2
}
