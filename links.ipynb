{
 "cells": [
  {
   "cell_type": "code",
   "execution_count": 1,
   "metadata": {},
   "outputs": [],
   "source": [
    "import pandas as pd\n",
    "import requests\n",
    "from bs4 import BeautifulSoup\n",
    "from tqdm.notebook import tqdm\n",
    "from datetime import date"
   ]
  },
  {
   "cell_type": "code",
   "execution_count": 2,
   "metadata": {
    "collapsed": false,
    "jupyter": {
     "outputs_hidden": false
    },
    "pycharm": {
     "name": "#%%\n"
    }
   },
   "outputs": [],
   "source": [
    "def get_page(link):\n",
    "    '''\n",
    "    Function\n",
    "    :param link: link to the page\n",
    "    :return: soup object\n",
    "    '''\n",
    "    return BeautifulSoup(requests.get(link).text,'lxml')\n",
    "\n",
    "def get_next_page(page_soup):\n",
    "    '''\n",
    "    This function returns link of next page for scrapping. If there is no next page returns False\n",
    "    Takes only one argument - BeautifulSoup object\n",
    "    :param page_soup: bs4 object\n",
    "    :return: str: link to next page\n",
    "    '''\n",
    "    if  s:= page_soup.find('a', attrs={'data-testid':'pagination-forward'}):\n",
    "        return s.get('href').replace('/uk/', 'https://www.olx.ua/uk/')\n",
    "    else:\n",
    "        return s\n",
    "\n",
    "def get_data(page_soup):\n",
    "    '''\n",
    "    This function returns all ids, links and description found on page\n",
    "    :param page_soup: bs4 object\n",
    "    :return: zip object\n",
    "    '''\n",
    "    #selecting link to the page and stripping of hashtag in one go\n",
    "    links = [x.get('href').replace('/d/', 'https://www.olx.ua/d/') for x in page_soup.select(\"a.css-rc5s2u\")]\n",
    "    description  = [process_description(x.string) for x in page_soup.select('h6.css-16v5mdi')]\n",
    "    id = [x.get('id') for x in page_soup.select('div.css-1sw7q4x')][:-1]\n",
    "    price, negotiable = zip(*[x.text.split('.') for x in page_soup.select('p.css-10b0gli')])\n",
    "    return zip(id, links, price, negotiable, description)\n",
    "\n",
    "def get_all_pages(category, city):\n",
    "    '''\n",
    "    Scraps all links in category for given city\n",
    "    :param category: string. Url to the whole category without city specification\n",
    "    :param city: string. Should be spelled same way as in the site links\n",
    "    :return:\n",
    "    '''\n",
    "    data=[]\n",
    "    page = category + city\n",
    "    while page:\n",
    "        soup=get_page(page)\n",
    "        data.extend(list(get_data(soup)))\n",
    "        page = get_next_page(soup)\n",
    "    return data\n",
    "\n",
    "def process_description(post):\n",
    "    #Cleans post text. Joins into single string, removes /n\n",
    "    post_str = \"\".join(post)\n",
    "    return post_str.replace('\\n', ' ').replace('\\r', ' ')"
   ]
  },
  {
   "cell_type": "code",
   "execution_count": 3,
   "metadata": {
    "collapsed": false,
    "jupyter": {
     "outputs_hidden": false
    },
    "pycharm": {
     "name": "#%%\n"
    }
   },
   "outputs": [],
   "source": [
    "try:\n",
    "    data = pd.read_csv('Data/rent_links.csv') #reading file\n",
    "except:\n",
    "    data=pd.DataFrame([],columns=['id', 'url', 'price', 'negotiable', 'description', 'city', 'date'])\n",
    "base_url = 'https://www.olx.ua/uk/nedvizhimost/kvartiry/dolgosrochnaya-arenda-kvartir/'\n",
    "cities = ['Kiev', 'Lvov', 'Odessa', 'Kharkov', 'Dnepr']\n",
    "today = date.today()\n",
    "new_data=pd.DataFrame()"
   ]
  },
  {
   "cell_type": "code",
   "execution_count": 4,
   "metadata": {
    "collapsed": false,
    "jupyter": {
     "outputs_hidden": false
    },
    "pycharm": {
     "name": "#%%\n"
    }
   },
   "outputs": [
    {
     "data": {
      "application/vnd.jupyter.widget-view+json": {
       "model_id": "6d94204305614606a9526bd0eb7d99c7",
       "version_major": 2,
       "version_minor": 0
      },
      "text/plain": [
       "  0%|          | 0/5 [00:00<?, ?it/s]"
      ]
     },
     "metadata": {},
     "output_type": "display_data"
    }
   ],
   "source": [
    "for city in tqdm(cities):\n",
    "    pages = get_all_pages(base_url, city)\n",
    "    city_data = pd.DataFrame(pages, columns=['id', 'url', 'price', 'negotiable', 'description'])\n",
    "    city_data['city'] = city\n",
    "    new_data = pd.concat([new_data,city_data],ignore_index=True)\n",
    "new_data['date']=today"
   ]
  },
  {
   "cell_type": "code",
   "execution_count": 5,
   "metadata": {
    "collapsed": false,
    "jupyter": {
     "outputs_hidden": false
    },
    "pycharm": {
     "name": "#%%\n"
    }
   },
   "outputs": [],
   "source": [
    "upd_data=new_data[~new_data.id.isin(data.id.values)]"
   ]
  },
  {
   "cell_type": "code",
   "execution_count": 6,
   "metadata": {
    "collapsed": false,
    "jupyter": {
     "outputs_hidden": false
    },
    "pycharm": {
     "name": "#%%\n"
    }
   },
   "outputs": [],
   "source": [
    "result = pd.concat([data,upd_data],ignore_index=True)\n",
    "result.drop_duplicates(subset='id', inplace=True)\n",
    "result.to_csv('Data/rent_links.csv', index=False)"
   ]
  },
  {
   "cell_type": "code",
   "execution_count": 7,
   "metadata": {},
   "outputs": [],
   "source": [
    "qty = len(upd_data)\n",
    "import logging\n",
    "from datetime import time\n",
    "logging.basicConfig(filename='links.log', encoding='utf-8', level=logging.DEBUG)\n",
    "logging.info(f\"File updated successfully. {qty} new entries added\")"
   ]
  },
  {
   "cell_type": "code",
   "execution_count": 8,
   "metadata": {},
   "outputs": [
    {
     "data": {
      "text/plain": [
       "6490"
      ]
     },
     "execution_count": 8,
     "metadata": {},
     "output_type": "execute_result"
    }
   ],
   "source": [
    "qty"
   ]
  }
 ],
 "metadata": {
  "interpreter": {
   "hash": "e81d5d59a768e955a90331044a9087e067aef923f7dd911126353dcac223be92"
  },
  "kernelspec": {
   "display_name": "Python [conda env:bs]",
   "language": "python",
   "name": "python3"
  },
  "language_info": {
   "codemirror_mode": {
    "name": "ipython",
    "version": 3
   },
   "file_extension": ".py",
   "mimetype": "text/x-python",
   "name": "python",
   "nbconvert_exporter": "python",
   "pygments_lexer": "ipython3",
   "version": "3.11.4"
  }
 },
 "nbformat": 4,
 "nbformat_minor": 4
}
