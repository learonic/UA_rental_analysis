{
 "cells": [
  {
   "cell_type": "code",
   "execution_count": 1,
   "metadata": {},
   "outputs": [],
   "source": [
    "import pandas as pd\n",
    "from tqdm.notebook import tqdm_notebook\n",
    "from random import randint\n",
    "import re\n",
    "from scipy import stats\n",
    "import numpy as np"
   ]
  },
  {
   "cell_type": "code",
   "execution_count": 2,
   "metadata": {},
   "outputs": [],
   "source": [
    "def parse_price(str):\n",
    "    #converts price from ### ### грн. format to numeric format\n",
    "    str_nocurrency = str.replace('грн', '')\n",
    "    str_clean = str_nocurrency.replace(' ', '').replace('.', '')\n",
    "    return int(str_clean)\n",
    "\n",
    "def parse_tags(tags):\n",
    "    tags_dict={}#'other_tags':[]}\n",
    "    for tag in tags:\n",
    "        if tag == 'Бізнес':\n",
    "            tags_dict['posted_by']='Business'\n",
    "        elif tag == 'Приватна особа':\n",
    "            tags_dict['posted_by']='Private'\n",
    "        elif tag[:12] == \"Поверховість\":\n",
    "            tags_dict['building_height_floors']=float(tag.replace('Поверховість: ', '').replace(' ',''))\n",
    "        elif tag[:6] == \"Поверх\":\n",
    "            tags_dict['floor']=float(tag.replace('Поверх: ', '').replace(' ',''))\n",
    "        elif tag[:8] == 'Загальна':\n",
    "            tags_dict['apt_area_sqm']=float(tag.replace('Загальна площа: ', '').replace(' м²','').replace(' ',''))\n",
    "        elif tag[:11] == 'Площа кухні':\n",
    "            tags_dict['kitchen_area_sqm'] = float(tag.replace('Площа кухні: ', '').replace(' м²','').replace(' ',''))\n",
    "        elif tag[:16] == 'Кількість кімнат':\n",
    "            tags_dict['rooms'] = int(tag.replace('Кількість кімнат: ', '')[0])\n",
    "        elif tag[:8] == 'Опалення':\n",
    "            tags_dict['heating'] = tag.replace('Опалення: ', '')\n",
    "        elif tag[:10] == 'Меблювання':\n",
    "            tags_dict['furnishing'] = tag.replace('Меблювання: ', '')\n",
    "        elif tag[:6] == 'Ремонт':\n",
    "            tags_dict['renovation'] = tag.replace('Ремонт: ', '')\n",
    "        elif tag[:17] == 'Домашні улюбленці':\n",
    "            tags_dict['pets'] = tag.replace('Домашні улюбленці: ', '')\n",
    "        elif tag[:10] == 'Планування':\n",
    "            tags_dict['layout'] = tag.replace('Планування: ', '')\n",
    "        elif tag[:11] == 'Тип будинку':\n",
    "            tags_dict['building_type'] = tag.replace('Тип будинку: ', '')\n",
    "        elif tag[:8] == 'Тип стін':\n",
    "            tags_dict['building_material'] = tag.replace('Тип будинку: ', '')       \n",
    "        elif tag[:8] == 'Cанвузол':\n",
    "            tags_dict['bathroom'] = tag.replace('Cанвузол: ', '')\n",
    "        #elif tag.lower() in ['договірна', 'поскаржитися', 'користувач', 'місцезнаходження', 'зараз онлайн', 'без комісії', 'готовий співпрацювати з ріелторами']:\n",
    "        #    pass\n",
    "        #else:\n",
    "        #    tags_dict['other_tags'].append(tag)\n",
    "    return tags_dict  "
   ]
  },
  {
   "cell_type": "code",
   "execution_count": 3,
   "metadata": {},
   "outputs": [],
   "source": [
    "data_raw = pd.read_parquet ('Data/rent_details.parquet')"
   ]
  },
  {
   "cell_type": "code",
   "execution_count": 5,
   "metadata": {},
   "outputs": [],
   "source": [
    "tags_df=pd.DataFrame(data_raw.tags.map(parse_tags).values.tolist())"
   ]
  },
  {
   "cell_type": "code",
   "execution_count": 6,
   "metadata": {},
   "outputs": [],
   "source": [
    "data_parsed = data_raw.join(tags_df)\n",
    "data_parsed.drop('tags', axis='columns', inplace=True)\n",
    "data_parsed.price = data_parsed.price.map(parse_price)"
   ]
  },
  {
   "cell_type": "code",
   "execution_count": 7,
   "metadata": {},
   "outputs": [
    {
     "data": {
      "text/plain": [
       "id                            0\n",
       "url                           0\n",
       "price                         0\n",
       "negotiable                19257\n",
       "description                   0\n",
       "city                          0\n",
       "date                          0\n",
       "details                       0\n",
       "district                      0\n",
       "posted_by                     0\n",
       "building_type              9859\n",
       "floor                         1\n",
       "building_height_floors        2\n",
       "apt_area_sqm                  1\n",
       "kitchen_area_sqm              2\n",
       "building_material          9746\n",
       "pets                      14181\n",
       "rooms                         0\n",
       "layout                     7791\n",
       "bathroom                   6432\n",
       "heating                    6404\n",
       "renovation                 5620\n",
       "furnishing                 4048\n",
       "dtype: int64"
      ]
     },
     "execution_count": 7,
     "metadata": {},
     "output_type": "execute_result"
    }
   ],
   "source": [
    "data_parsed.isna().sum()"
   ]
  },
  {
   "cell_type": "code",
   "execution_count": 8,
   "metadata": {},
   "outputs": [],
   "source": [
    "data_parsed.dropna(subset=['apt_area_sqm'], inplace=True)"
   ]
  },
  {
   "cell_type": "code",
   "execution_count": 9,
   "metadata": {},
   "outputs": [],
   "source": [
    "data_parsed.drop_duplicates(['price', 'description'], inplace=True)"
   ]
  },
  {
   "cell_type": "code",
   "execution_count": 10,
   "metadata": {},
   "outputs": [],
   "source": [
    "cities=['Kiev', 'Lvov', 'Odessa', 'Kharkov', 'Dnepr']\n",
    "# max floors, based on wiki article\n",
    "max_floors = {'Kiev': 48, 'Dnepr': 28, 'Odessa': 25, 'Kharkov': 28, 'Lvov': 27}\n",
    "# creating median\n",
    "median_building_floors = data_parsed.groupby('city')['building_height_floors'].agg(pd.Series.median).to_dict()\n",
    "median_apt_floor = data_parsed.groupby('city')['floor'].agg(pd.Series.median).to_dict()"
   ]
  },
  {
   "cell_type": "code",
   "execution_count": 11,
   "metadata": {},
   "outputs": [],
   "source": [
    "for city in cities:\n",
    "    data_parsed.loc[(data_parsed.city==city) & (data_parsed.floor > max_floors.get(city)), 'floor'] = median_apt_floor.get(city)\n",
    "    data_parsed.loc[(data_parsed.city==city) & (data_parsed.building_height_floors > max_floors.get(city)), 'building_height_floors'] = median_building_floors.get(city)"
   ]
  },
  {
   "cell_type": "code",
   "execution_count": 12,
   "metadata": {},
   "outputs": [],
   "source": [
    "data_parsed.drop(data_parsed[data_parsed.apt_area_sqm < data_parsed.rooms*12].index, inplace=True)"
   ]
  },
  {
   "cell_type": "code",
   "execution_count": 13,
   "metadata": {},
   "outputs": [],
   "source": [
    "data_parsed['negotiable'] = data_parsed.negotiable.apply(lambda x: True if x == 'Договірна' else False)"
   ]
  },
  {
   "cell_type": "code",
   "execution_count": 14,
   "metadata": {},
   "outputs": [],
   "source": [
    "data_parsed['lux'] = data_parsed.description.apply(lambda x: True if re.search('пентхаус|vip|вип', x.lower()) else False)"
   ]
  },
  {
   "cell_type": "code",
   "execution_count": 15,
   "metadata": {},
   "outputs": [],
   "source": [
    "subset_large_kitchen = data_parsed.kitchen_area_sqm >= data_parsed.apt_area_sqm / 2\n",
    "data_parsed.loc[subset_large_kitchen, 'kitchen_area_sqm'] = data_parsed[subset_large_kitchen].kitchen_area_sqm / 10"
   ]
  },
  {
   "cell_type": "code",
   "execution_count": 16,
   "metadata": {},
   "outputs": [],
   "source": [
    "for city in cities:\n",
    "    for room in range(1,6):\n",
    "        subset = data_parsed.loc[(data_parsed.city == city) & (data_parsed.rooms == room)].index\n",
    "        data_parsed.loc[subset, 'z_score'] = np.abs(stats.zscore(data_parsed.loc[subset].apt_area_sqm))\n",
    "\n"
   ]
  },
  {
   "cell_type": "code",
   "execution_count": 17,
   "metadata": {},
   "outputs": [],
   "source": [
    "data_parsed = data_parsed.loc[data_parsed.z_score<3]"
   ]
  },
  {
   "cell_type": "code",
   "execution_count": 18,
   "metadata": {},
   "outputs": [],
   "source": [
    "data_parsed.drop('z_score', axis=1, inplace=True)"
   ]
  },
  {
   "cell_type": "code",
   "execution_count": 19,
   "metadata": {},
   "outputs": [],
   "source": [
    "data_parsed.to_csv('Data/rent_offers_clean.csv', index=False)"
   ]
  }
 ],
 "metadata": {
  "interpreter": {
   "hash": "24e68169850bbe1f6409d698411a76cccf4fc813a7b05c95d02d1f616fb1135c"
  },
  "kernelspec": {
   "display_name": "Python 3.10.0 64-bit ('ds': conda)",
   "language": "python",
   "name": "python3"
  },
  "language_info": {
   "codemirror_mode": {
    "name": "ipython",
    "version": 3
   },
   "file_extension": ".py",
   "mimetype": "text/x-python",
   "name": "python",
   "nbconvert_exporter": "python",
   "pygments_lexer": "ipython3",
   "version": "3.11.4"
  },
  "orig_nbformat": 4
 },
 "nbformat": 4,
 "nbformat_minor": 2
}
